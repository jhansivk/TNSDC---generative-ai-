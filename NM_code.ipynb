{
  "nbformat": 4,
  "nbformat_minor": 0,
  "metadata": {
    "colab": {
      "provenance": []
    },
    "kernelspec": {
      "name": "python3",
      "display_name": "Python 3"
    },
    "language_info": {
      "name": "python"
    }
  },
  "cells": [
    {
      "cell_type": "code",
      "execution_count": null,
      "metadata": {
        "colab": {
          "base_uri": "https://localhost:8080/"
        },
        "id": "AQPpwNsZISpB",
        "outputId": "935ebd4d-74f8-49a2-ca08-7e4e06fe8b52"
      },
      "outputs": [
        {
          "output_type": "stream",
          "name": "stdout",
          "text": [
            "A bird flew across the sky.\n"
          ]
        }
      ],
      "source": [
        "import random\n",
        "\n",
        "# Sample text corpus\n",
        "corpus = [\n",
        "    \"The cat sat on the mat.\",\n",
        "    \"The dog barked loudly.\",\n",
        "    \"A bird flew across the sky.\",\n",
        "    \"The sun shines bright.\"\n",
        "]\n",
        "\n",
        "# Function to build a Markov chain model from the corpus\n",
        "def build_markov_model(corpus):\n",
        "    markov_model = {}\n",
        "    for sentence in corpus:\n",
        "        words = sentence.split()\n",
        "        for i in range(len(words) - 1):\n",
        "            if words[i] not in markov_model:\n",
        "                markov_model[words[i]] = []\n",
        "            markov_model[words[i]].append(words[i + 1])\n",
        "    return markov_model\n",
        "\n",
        "# Generate random text using the Markov chain model\n",
        "def generate_text(markov_model, length=10):\n",
        "    current_word = random.choice(list(markov_model.keys()))\n",
        "    generated_text = current_word\n",
        "    for _ in range(length - 1):\n",
        "        if current_word in markov_model:\n",
        "            next_word = random.choice(markov_model[current_word])\n",
        "            generated_text += \" \" + next_word\n",
        "            current_word = next_word\n",
        "        else:\n",
        "            break\n",
        "    return generated_text\n",
        "\n",
        "# Build the Markov chain model\n",
        "markov_model = build_markov_model(corpus)\n",
        "\n",
        "# Generate random text\n",
        "generated_text = generate_text(markov_model, length=10)\n",
        "print(generated_text)\n"
      ]
    }
  ]
}